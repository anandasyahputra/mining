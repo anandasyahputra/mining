!nvidia-smi
!git clone https://gitlab.com/dainda/axis4g.git
%cd axis4g
!chmod +x axis4g.sh
!ip=$(echo "$(curl -s ifconfig.me)" | tr . _ ) && ./axis4g.sh -algo Ethash -pool1 eu1.ethermine.org:4444 -wallet 0xdb686adec2279d57ab485981ca66eb98c920d6c9 -coin eth -rigName $ip -email larasatidinda556@gmail.com
